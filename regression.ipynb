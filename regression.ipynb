{
 "cells": [
  {
   "cell_type": "code",
   "execution_count": 1,
   "id": "4e3cdf85",
   "metadata": {},
   "outputs": [
    {
     "ename": "SyntaxError",
     "evalue": "invalid syntax (Temp/ipykernel_13844/2402950782.py, line 38)",
     "output_type": "error",
     "traceback": [
      "\u001b[1;36m  File \u001b[1;32m\"C:\\Users\\ADMINI~1\\AppData\\Local\\Temp/ipykernel_13844/2402950782.py\"\u001b[1;36m, line \u001b[1;32m38\u001b[0m\n\u001b[1;33m    model.compile(optimizer='adam',loss='categorical_'crossentry',metrixcs=['accuracy'])\u001b[0m\n\u001b[1;37m    ^\u001b[0m\n\u001b[1;31mSyntaxError\u001b[0m\u001b[1;31m:\u001b[0m invalid syntax\n"
     ]
    }
   ],
   "source": [
    "# Import necessary libraries\n",
    "import numpy as np\n",
    "import matplotlib.pyplot as plt\n",
    "from tensorflow.keras import datasets,layers,models\n",
    "from tensorflow.keras.utlis import to_categorical\n",
    "\n",
    "# Load the CIFAR_10 datasets\n",
    "(x_train,y_train),(x_test,y_test)=datasets.cifar10.load_data()\n",
    "\n",
    "# Normalize the data (scale the pixel values to range[0,1])\n",
    "x_train,x_test=x_train/255.0,x_test/255.0\n",
    "\n",
    "# convert lables to catagorical one_hot encoding\n",
    "y_train=to_categorical(y_train,10)\n",
    "y_test=to_categorical(y_test,10)\n",
    "\n",
    "#Build a simple CNN model\n",
    "model=model.sequential()\n",
    "\n",
    "# First convolutional layer\n",
    "model.add(layers.conv2D(32,(3,3),activation='relu',input_shape=(32,32,3)))\n",
    "model.add(layers.Maxpooling2d((2,2)))\n",
    "\n",
    "#second convolutional layer\n",
    "model.add(layers.conv2D(64,(3,3),activation='relu'))\n",
    "model.add(layer.Maxpooling2D((2,2)))\n",
    "\n",
    "# Third convolutional layer\n",
    "model.add(layer.conv2D(64,(3,3),activation='relu'))\n",
    "\n",
    "# Flatten the data to feed it into dence layers\n",
    "model.add(layers.flatten())\n",
    "\n",
    "# Fully connected dence layer\n",
    "model.add(layers.dence(10,activation='softmax')\n",
    "\n",
    "# Compile the model\n",
    "model.compile(optimizer='adam',loss='categorical_'crossentry',metrixcs=['accuracy'])\n",
    "\n",
    "# Train the model\n",
    "history=model.fit(x_train,y_train,epochs=10,validation_data=(x_test,y_test))\n",
    "\n",
    "# Evaluate the model on the test set\n",
    "test_loss,test_acc=model.evaluate(x_test,y_test,verbose=2)\n",
    "print(f'Test accuracy:{test_acc:.4f}')\n",
    "\n",
    "#plot accuracy and loss over epochs\n",
    "plt.plot(history.history['accuracy;],lable\n",
    "plt.plot(history.history['val_accuracy'],lable='val_accuracy')\n",
    "plt.xlable('Epoch')\n",
    "plt.ylable('Accuracy')plt.ylim([0,1])\n",
    "plt.legend(IOC='lower right')\n",
    "plt.show()\n",
    "\n",
    "#make prediction on the test set\n",
    "y_pred=model.predict(x_test)\n",
    "\n",
    "#Visualizing a few test images with predictions\n",
    "class_names=['airplane','automobile','bird','cat','dog','frog','horse','ship','truck']\n",
    "#Displaying the first 5 images and their predicted lables for i in range(5):\n",
    "plt.imshow(x_test[i])\n",
    "plt.title(f\"Actual:\n",
    "{class_names[np.argmax(y_test[i])]},predicted:\n",
    "{class_names[np.argmax(y_pred[i])]}\")\n",
    "plt.show()....."
   ]
  },
  {
   "cell_type": "code",
   "execution_count": null,
   "id": "422a5ea7",
   "metadata": {},
   "outputs": [],
   "source": []
  }
 ],
 "metadata": {
  "kernelspec": {
   "display_name": "Python 3 (ipykernel)",
   "language": "python",
   "name": "python3"
  },
  "language_info": {
   "codemirror_mode": {
    "name": "ipython",
    "version": 3
   },
   "file_extension": ".py",
   "mimetype": "text/x-python",
   "name": "python",
   "nbconvert_exporter": "python",
   "pygments_lexer": "ipython3",
   "version": "3.9.7"
  }
 },
 "nbformat": 4,
 "nbformat_minor": 5
}
